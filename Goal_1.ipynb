{
 "cells": [
  {
   "cell_type": "markdown",
   "metadata": {},
   "source": [
    "\n",
    "<h1><font color=\"blue\">Does Air Quality Influence Criminal Activity?</font></h1>\n",
    "<center><h2><a href=\"https://nbviewer.jupyter.org/github/DeclanCarter/DataNotebook/blob/master/Goal_2.ipynb\">Goal 2 - Crime Rates</a></h2></center>\n",
    "<center><h2><a href=\"https://nbviewer.jupyter.org/github/DeclanCarter/DataNotebook/blob/master/Home_Page.ipynb\">Home Page</a></h2></center>\n",
    "\n",
    "\n",
    "Goal 1:\n",
    "\n",
    "The first goal is to identify the levels of Carbon Monoxide(CO), Ozone, Nitrogen Dioxide(No2), Particle pollution(PM 2.5 & PM10) and Sulfur Dioxide(So2) present in the air of three major cities in the United States over a time period of 25 years, beginning in 1985 up until 2010. These cities chosen are Chicago, Los Angeles and New York City. \n",
    "\n",
    "The respective levels of air pollution within each city over the specfied time period will show how certain pollutants have either risen or fallen since the 1980s.\n",
    "\n",
    "Using this inforamtion it is hoped that further discernment of how much exposure each the city has to certain pollutants over the specified time.\n",
    "\n",
    "It is intended that this resulting information may provide a potential basis of how polluted each city is and compare the increase and decrease of different pollutants to criminal activity in the same area.\n",
    "\n",
    "Results of this may entice city governments to do more research into pollution in their cities and encourage faster implementation of more environment friendly methods within their city.\n",
    "\n"
   ]
  },
  {
   "cell_type": "code",
   "execution_count": 1,
   "metadata": {},
   "outputs": [],
   "source": [
    "import numpy as np\n",
    "import pandas as pd \n",
    "import plotly.plotly as py\n",
    "import plotly.graph_objs as go\n",
    "import plotly.figure_factory as FF\n",
    "from plotly.plotly import iplot\n",
    "\n",
    "ChicagoCOPath = 'https://raw.githubusercontent.com/DeclanCarter/DataScience/master/ChicagoCO.csv'\n",
    "\n",
    "ChicagoCOPathRead = pd.read_csv(ChicagoCOPath)"
   ]
  },
  {
   "cell_type": "markdown",
   "metadata": {},
   "source": [
    "<h1>Carbon Monoxide</h1>\n",
    "Carbon Monoxide(CO) is a common topic of discussion when talking about climate change and global warming. It is considered to be one of the biggest impactors to the environment. CO is produced by burning fossil fuels and with the majority of the world still relying on fossil fuels for power, high levels of CO is produced each day. CO is going to be a big factor in this analysis and is going to play a big part in our final conclusion.\n",
    "\n",
    "<h1>Nitrogen Dioxide</h1>\n",
    "Nitrogen Dioxide(No2) is part of a group of gaseous air pollutants caused by combustion of fossil fuels. Nitric Oxide (NO) is mainly emitted by road vehicles or other fossil fuel combustion combined with oxygen in the atmosphere producing No2 gas. No2 is also a precursor to a number of other harmful secondary air pollutants such as ozone and particulate matter, discussed more further down. It also plays a role in the creation of acid rain. Some research states that No2 exposure may affect health independently of any effect of other pollutants but because of its presence is closely linked to the formation or presence of other air polluatants it is difficult to establish the health effects attributable to No2. \n",
    "\n",
    "<h1>Ozone</h1>\n",
    "Ozone can be a double-edged sword for health and the environment, the deciding factor is where it's found in the atmosphere. Ozone found in the stratosphere protects us from ultraviolet radiation from the sun but ground-level ozone can trigger a variety of health problems, especially people who suffer from asthma or any type of lung disease. Ground level ozone is not emitted directly into the air but created by a chemical reactions between oxides of nitrogen and volatile organic compounds. This occurs when pollutants emitted by cars, power plants, refineries, etc react in the presence of sunlight. Ozone can reach unhealthy levels on hot sunny days in urban areas and is transported long distances by wind, so rural areas can be effect by high ozone.\n",
    "\n",
    "<h1>Particle Matter</h1>\n",
    "Particle Matter is a term for a mixture of solid particles and liquid droplets found in the air that can be inhaled and cause serious health problems. Some particles such as dust, dirt, soot, or smoke are large or dark enough to be seen with the naked eye. Others are so small they can only be detected using an electron microscope.\n",
    "\n",
    "Particle pollution includes two types:\n",
    "\n",
    "PM10: Inhalable particles that measure 10 micrometers and smaller in diameter.  \n",
    "\n",
    "PM2.5: Fine inhalable particles with diameters that measures 2.5 micrometers and smaller. The average hair on a person is about 70 micrometers in diameter so its about 30 times largest fine particle. \n",
    "\n",
    "These particles can be made up of hundreds of different chemicals and can be emitted from construction sites, unpaved roads or fires. Most particles form in the atmosphere as a result of reactions of sulfur dioxide and nitrogen oxides emitted from cars, power plants and factories. \n",
    "\n",
    "<h1>Sulfur Dioxide</h1>\n",
    "Sulfur Dioxide(So2) is a invisible gas that reacts easily with other substances to form harmful compounds such as sulfuric acid, sulfurous acid and sulfate particles. Majority of sulfur dioxide in the air comes from human sources such as industrial activity that processes materials that contain sulfur. Electricity generation from materials like coal, oil or gas can release sulfur into the air, other mineral ores can produce sulfur and release sulfur dioxide when being processed. Other industrial activites that burn fossil fuels containing sulfur can be a main source of sulfur dioxide. Sulfur dioxide is also present in vehicle emissions.\n",
    "\n",
    "Breathing in sulfur dioxide can cause a wide range of health problems, it can irritate the nose, throat and cause coughing, wheezing, shortness of breath or tight feeling around the chest. \n"
   ]
  },
  {
   "cell_type": "markdown",
   "metadata": {},
   "source": [
    "<h2>Expected Outcome</h2>\n",
    "\n",
    "The levels of pollutants is expected to be linked with criminal activity within the city, the higher up on the air quailty index the more criminal activity occuring in the city.\n",
    "\n"
   ]
  },
  {
   "cell_type": "markdown",
   "metadata": {},
   "source": [
    "<h2>Cleaning Up Data</h2>\n",
    "\n",
    "Firstly lets take a look at the range of values for the pollutant datasets for the three cities, there are columns not needed and are only over complicating the dataset. These columns are removed to help simplify the dataset. Columns such as Main Pollutant which is empty due to the method of downloading the datasets. Each pollutant dataset was downloaded seperately to improve the manageability of the data. Other columns such as Site Name, Site ID and source is removed as this data only relates to the organisation that collected the data and does not contribute anything to our findings.\n",
    "\n",
    "To remove any dirty data that may exist in the pollutant dataset we checked all unique values within the dataset to insure that the dataset on the surface looked correct and removed any outliers that were spotted. \n",
    "\n",
    "The following code is the methods used to simply check the values in the dataset and check for any abnormalities."
   ]
  },
  {
   "cell_type": "code",
   "execution_count": 2,
   "metadata": {},
   "outputs": [
    {
     "name": "stdout",
     "output_type": "stream",
     "text": [
      "[ 13  58  67  40  17  26  54  44  53  55  28  24  39  51  42  52  15  25\n",
      "  31  33  32  47  38  49  45  75  64  50  69  43  19  48  35  27  18  34\n",
      "  62  30  61  56  74  36  65  63  83  66  60  23  70  71  57  59  41  76\n",
      "  73  20  22  87  79  72  90  14  68  81  16  91  89  85  77  80  11  86\n",
      "  78  97  93  98  96 109  99  84   9  10   8 104   7   6   5]\n"
     ]
    }
   ],
   "source": [
    "UniqueVal = ChicagoCOPathRead['Carbon Monoxide AQI Value'].unique()\n",
    "MinVal = ChicagoCOPathRead['Carbon Monoxide AQI Value'].min()\n",
    "MaxVal = ChicagoCOPathRead['Carbon Monoxide AQI Value'].max()\n",
    "print(UniqueVal)"
   ]
  },
  {
   "cell_type": "code",
   "execution_count": 3,
   "metadata": {},
   "outputs": [
    {
     "name": "stdout",
     "output_type": "stream",
     "text": [
      "5\n"
     ]
    }
   ],
   "source": [
    "print(MinVal)"
   ]
  },
  {
   "cell_type": "code",
   "execution_count": 4,
   "metadata": {},
   "outputs": [
    {
     "name": "stdout",
     "output_type": "stream",
     "text": [
      "109\n"
     ]
    }
   ],
   "source": [
    "print(MaxVal)"
   ]
  },
  {
   "cell_type": "markdown",
   "metadata": {},
   "source": [
    "\n",
    "Focusing on the AQI levels to determine how polluted the air in the cities is. The AQI is used by government agencies to communicate to the public how polluted the air currently is or how polluted it is forecast to be. This is basis we are making our judgment on.  "
   ]
  },
  {
   "cell_type": "markdown",
   "metadata": {},
   "source": [
    "This is the AQI table for reference on how polluted the cites are. \n",
    "<table><tr>\n",
    "    <th>(AQI) Values</th>\n",
    "    <th>Levels of Health Concern</th>\n",
    "    <th>Colours</th>\n",
    "    </tr>\n",
    "    <tr>\n",
    "        <td>0 to 50</td>\n",
    "        <td>Good</td>\n",
    "        <td>Green</td>\n",
    "    </tr>\n",
    "    <tr>\n",
    "        <td>51 to 100</td>\n",
    "        <td>Moderate</td>\n",
    "        <td>Yellow</td>\n",
    "    </tr>\n",
    "    <tr>\n",
    "        <td>101 to 150</td>\n",
    "        <td>Unhealthy for Sensitive Groups</td>\n",
    "        <td>Orange</td>\n",
    "    </tr>\n",
    "    <tr>\n",
    "        <td>151 to 200</td>\n",
    "        <td> Unhealthy</td>\n",
    "        <td>Red</td>\n",
    "    </tr>\n",
    "    <tr>\n",
    "        <td>201 to 300</td>\n",
    "        <td>Very Unhealthy</td>\n",
    "        <td>Purple</td>\n",
    "    </tr>\n",
    "    <tr>\n",
    "        <td>301 to 500</td>\n",
    "        <td>Hazardous</td>\n",
    "        <td>Maroon</td>\n",
    "    </tr>\n",
    "    </table>\n"
   ]
  },
  {
   "cell_type": "markdown",
   "metadata": {},
   "source": [
    "Finally we map the data, utilising plotly."
   ]
  },
  {
   "cell_type": "code",
   "execution_count": 5,
   "metadata": {},
   "outputs": [
    {
     "name": "stdout",
     "output_type": "stream",
     "text": [
      "High five! You successfully sent some data to your account on plotly. View your plot in your browser at https://plot.ly/~Rayo117/0 or inside your plot.ly account where it is named 'ChicagoCO'\n"
     ]
    },
    {
     "name": "stderr",
     "output_type": "stream",
     "text": [
      "C:\\Users\\Public\\Anaconda3\\lib\\site-packages\\IPython\\core\\display.py:689: UserWarning:\n",
      "\n",
      "Consider using IPython.display.IFrame instead\n",
      "\n"
     ]
    },
    {
     "data": {
      "text/html": [
       "<iframe id=\"igraph\" scrolling=\"no\" style=\"border:none;\" seamless=\"seamless\" src=\"https://plot.ly/~Rayo117/0.embed\" height=\"525px\" width=\"100%\"></iframe>"
      ],
      "text/plain": [
       "<plotly.tools.PlotlyDisplay object>"
      ]
     },
     "execution_count": 5,
     "metadata": {},
     "output_type": "execute_result"
    }
   ],
   "source": [
    "ChicagoCOPath = 'https://raw.githubusercontent.com/DeclanCarter/DataScience/master/ChicagoCO.csv'\n",
    "df = pd.read_csv(ChicagoCOPath)\n",
    "\n",
    "year = 1985\n",
    "total = 0\n",
    "for i, x in enumerate(df['Date']): \n",
    "    if str(year) not in x:\n",
    "        if year == 1985:\n",
    "            graphData = [total / 365]\n",
    "        else:\n",
    "            if year/4 == 0:\n",
    "                graphData.append(total / 366)\n",
    "            else:\n",
    "                graphData.append(total / 365)\n",
    "\n",
    "        total = 0\n",
    "        year += 1\n",
    "        \n",
    "    pol = df['Carbon Monoxide AQI Value'][i]\n",
    "    total += pol\n",
    "\n",
    "graphData.append(total/365)\n",
    "\n",
    "graphYears = [1985,1986,1987,1988,1989,1990,1991,1992,1993,1994,1995,1996,1997,1998,1999,2000,2001,2002,2003,2004,2005,2006,2007,2008,2009,2010]\n",
    "trace = go.Scatter(x = graphYears, y = graphData,\n",
    "                  name='Carbon Monoxide AQI Value in Chicago')\n",
    "layout = go.Layout(title='CO AQI Value in Chicago (From 1985 to 2010)',\n",
    "                   plot_bgcolor='rgb(230, 230,230)', \n",
    "                   showlegend=True)\n",
    "fig = go.Figure(data=[trace], layout=layout)\n",
    "\n",
    "py.iplot(fig, filename='ChicagoCO')"
   ]
  },
  {
   "cell_type": "code",
   "execution_count": 6,
   "metadata": {},
   "outputs": [
    {
     "data": {
      "text/html": [
       "<iframe id=\"igraph\" scrolling=\"no\" style=\"border:none;\" seamless=\"seamless\" src=\"https://plot.ly/~Rayo117/2.embed\" height=\"525px\" width=\"100%\"></iframe>"
      ],
      "text/plain": [
       "<plotly.tools.PlotlyDisplay object>"
      ]
     },
     "execution_count": 6,
     "metadata": {},
     "output_type": "execute_result"
    }
   ],
   "source": [
    "LACOPath = 'https://raw.githubusercontent.com/DeclanCarter/DataScience/master/LACO.csv'\n",
    "df = pd.read_csv(LACOPath)\n",
    "\n",
    "year = 1985\n",
    "total = 0\n",
    "for i, x in enumerate(df['Date']): \n",
    "    if str(year) not in x:\n",
    "        if year == 1985:\n",
    "            graphData = [total / 365]\n",
    "        else:\n",
    "            if year/4 == 0:\n",
    "                graphData.append(total / 366)\n",
    "            else:\n",
    "                graphData.append(total / 365)\n",
    "\n",
    "        total = 0\n",
    "        year += 1\n",
    "        \n",
    "    pol = df['Carbon Monoxide AQI Value'][i]\n",
    "    total += pol\n",
    "\n",
    "graphData.append(total/365)\n",
    "\n",
    "graphYears = [1985,1986,1987,1988,1989,1990,1991,1992,1993,1994,1995,1996,1997,1998,1999,2000,2001,2002,2003,2004,2005,2006,2007,2008,2009,2010]\n",
    "trace = go.Scatter(x = graphYears, y = graphData,\n",
    "                  name='Carbon Monoxide AQI Value in LA')\n",
    "layout = go.Layout(title='CO AQI Value in LA (From 1985 to 2010)',\n",
    "                   plot_bgcolor='rgb(230, 230,230)', \n",
    "                   showlegend=True)\n",
    "fig = go.Figure(data=[trace], layout=layout)\n",
    "\n",
    "py.iplot(fig, filename='LACO')"
   ]
  },
  {
   "cell_type": "code",
   "execution_count": 7,
   "metadata": {
    "scrolled": false
   },
   "outputs": [
    {
     "data": {
      "text/html": [
       "<iframe id=\"igraph\" scrolling=\"no\" style=\"border:none;\" seamless=\"seamless\" src=\"https://plot.ly/~Rayo117/4.embed\" height=\"525px\" width=\"100%\"></iframe>"
      ],
      "text/plain": [
       "<plotly.tools.PlotlyDisplay object>"
      ]
     },
     "execution_count": 7,
     "metadata": {},
     "output_type": "execute_result"
    }
   ],
   "source": [
    "NYCOPath = 'https://raw.githubusercontent.com/DeclanCarter/DataScience/master/NYCO.csv'\n",
    "df = pd.read_csv(NYCOPath)\n",
    "\n",
    "year = 1985\n",
    "total = 0\n",
    "for i, x in enumerate(df['Date']): \n",
    "    if str(year) not in x:\n",
    "        if year == 1985:\n",
    "            graphData = [total / 365]\n",
    "        else:\n",
    "            if year/4 == 0:\n",
    "                graphData.append(total / 366)\n",
    "            else:\n",
    "                graphData.append(total / 365)\n",
    "\n",
    "        total = 0\n",
    "        year += 1\n",
    "        \n",
    "    pol = df['Carbon Monoxide AQI Value'][i]\n",
    "    total += pol\n",
    "\n",
    "graphData.append(total/365)\n",
    "\n",
    "graphYears = [1985,1986,1987,1988,1989,1990,1991,1992,1993,1994,1995,1996,1997,1998,1999,2000,2001,2002,2003,2004,2005,2006,2007,2008,2009,2010]\n",
    "trace = go.Scatter(x = graphYears, y = graphData,\n",
    "                  name='Carbon Monoxide AQI Value in NY')\n",
    "layout = go.Layout(title='CO AQI Value in NY (From 1985 to 2010)',\n",
    "                   plot_bgcolor='rgb(230, 230,230)', \n",
    "                   showlegend=True)\n",
    "fig = go.Figure(data=[trace], layout=layout)\n",
    "\n",
    "py.iplot(fig, filename='NYCO')"
   ]
  },
  {
   "cell_type": "markdown",
   "metadata": {
    "collapsed": true
   },
   "source": [
    "<h2>Carbon Monoxide Analysis</h2>\n",
    "From analysing the carbon monoxide data from the three cities there is a clear downwards trend in the presence of carbon monoxide. All three cities share similar graphs, they all start very high and gradually slope downwards. \n",
    "\n",
    "In New York and Los Angeles, the levels of carbon monoxide were reaching concerning levels, according to the AQI, both cities were reaching colour red and purple level. This means the cities air was considered unhealthy or very unhealthy. \n",
    "\n",
    "Chicago on the other hand managed to keep their carbon monoxide levels to a reasonable level with only a few cases of it going over one hundred.\n",
    "\n",
    "A reminder that we are focusing on the air quality in the city and not the concentration of carbon monoxide in the atmosphere. Co2 levels are increasing more and more each year this is a well known fact but the quality of air that the population of a city breathes in daily is the aspect we believe has a larger effect on the behaviour of that population.\n",
    "\n",
    "Reasons why air quailty is increasing could be the result of various factors. Carbon monoxide poisoning awareness becoming more well known and Co2 detectors being advised and later being manditory for buildings. A study in 1991 concluded that out of 56,113 deaths certificates that implicated that carbon monoxide as a contributing cause of death, 11,547 were classed as unintentional during the period of 1979 and 1988. \n",
    "\n",
    "Improvements to engines, increase of trees and parks, removal of lead based petrol and cleaner alternatives.\n",
    "\n"
   ]
  },
  {
   "cell_type": "code",
   "execution_count": 8,
   "metadata": {},
   "outputs": [
    {
     "data": {
      "text/html": [
       "<iframe id=\"igraph\" scrolling=\"no\" style=\"border:none;\" seamless=\"seamless\" src=\"https://plot.ly/~Rayo117/14.embed\" height=\"525px\" width=\"100%\"></iframe>"
      ],
      "text/plain": [
       "<plotly.tools.PlotlyDisplay object>"
      ]
     },
     "execution_count": 8,
     "metadata": {},
     "output_type": "execute_result"
    }
   ],
   "source": [
    "ChicagoNO2Path = 'https://raw.githubusercontent.com/DeclanCarter/DataScience/master/ChicagoNo2.csv'\n",
    "df = pd.read_csv(ChicagoNO2Path)\n",
    "\n",
    "year = 1985\n",
    "total = 0\n",
    "for i, x in enumerate(df['Date']): \n",
    "    if str(year) not in x:\n",
    "        if year == 1985:\n",
    "            graphData = [total / 365]\n",
    "        else:\n",
    "            if year/4 == 0:\n",
    "                graphData.append(total / 366)\n",
    "            else:\n",
    "                graphData.append(total / 365)\n",
    "\n",
    "        total = 0\n",
    "        year += 1\n",
    "        \n",
    "    pol = df['Nitrogen Dioxide AQI Value'][i]\n",
    "    total += pol\n",
    "\n",
    "graphData.append(total/365)\n",
    "\n",
    "graphYears = [1985,1986,1987,1988,1989,1990,1991,1992,1993,1994,1995,1996,1997,1998,1999,2000,2001,2002,2003,2004,2005,2006,2007,2008,2009,2010]\n",
    "trace = go.Scatter(x = graphYears, y = graphData,\n",
    "                  name='NO2 AQI Value in Chicago')\n",
    "layout = go.Layout(title='NO2 AQI Value in Chicago (From 1985 to 2010)',\n",
    "                   plot_bgcolor='rgb(230, 230,230)', \n",
    "                   showlegend=True)\n",
    "fig = go.Figure(data=[trace], layout=layout)\n",
    "\n",
    "py.iplot(fig, filename='ChicagoNO2')"
   ]
  },
  {
   "cell_type": "code",
   "execution_count": 10,
   "metadata": {},
   "outputs": [
    {
     "data": {
      "text/html": [
       "<iframe id=\"igraph\" scrolling=\"no\" style=\"border:none;\" seamless=\"seamless\" src=\"https://plot.ly/~Rayo117/22.embed\" height=\"525px\" width=\"100%\"></iframe>"
      ],
      "text/plain": [
       "<plotly.tools.PlotlyDisplay object>"
      ]
     },
     "execution_count": 10,
     "metadata": {},
     "output_type": "execute_result"
    }
   ],
   "source": [
    "LANO2Path = 'https://raw.githubusercontent.com/DeclanCarter/DataScience/master/LANo2.csv'\n",
    "df = pd.read_csv(LANO2Path)\n",
    "\n",
    "year = 1985\n",
    "total = 0\n",
    "for i, x in enumerate(df['Date']): \n",
    "    if str(year) not in x:\n",
    "        if year == 1985:\n",
    "            graphData = [total / 365]\n",
    "        else:\n",
    "            if year/4 == 0:\n",
    "                graphData.append(total / 366)\n",
    "            else:\n",
    "                graphData.append(total / 365)\n",
    "\n",
    "        total = 0\n",
    "        year += 1\n",
    "        \n",
    "    pol = df['Nitrogen Dioxide AQI Value'][i]\n",
    "    total += pol\n",
    "\n",
    "graphData.append(total/365)\n",
    "\n",
    "graphYears = [1985,1986,1987,1988,1989,1990,1991,1992,1993,1994,1995,1996,1997,1998,1999,2000,2001,2002,2003,2004,2005,2006,2007,2008,2009,2010]\n",
    "trace = go.Scatter(x = graphYears, y = graphData,\n",
    "                  name='NO2 AQI Value in LA')\n",
    "layout = go.Layout(title='NO2 AQI Value in LA (From 1985 to 2010)',\n",
    "                   plot_bgcolor='rgb(230, 230,230)', \n",
    "                   showlegend=True)\n",
    "fig = go.Figure(data=[trace], layout=layout)\n",
    "\n",
    "py.iplot(fig, filename='LANO2')"
   ]
  },
  {
   "cell_type": "code",
   "execution_count": 11,
   "metadata": {},
   "outputs": [
    {
     "data": {
      "text/html": [
       "<iframe id=\"igraph\" scrolling=\"no\" style=\"border:none;\" seamless=\"seamless\" src=\"https://plot.ly/~Rayo117/30.embed\" height=\"525px\" width=\"100%\"></iframe>"
      ],
      "text/plain": [
       "<plotly.tools.PlotlyDisplay object>"
      ]
     },
     "execution_count": 11,
     "metadata": {},
     "output_type": "execute_result"
    }
   ],
   "source": [
    "NYNO2Path = 'https://raw.githubusercontent.com/DeclanCarter/DataScience/master/NYNo2.csv'\n",
    "df = pd.read_csv(NYNO2Path)\n",
    "\n",
    "year = 1985\n",
    "total = 0\n",
    "for i, x in enumerate(df['Date']): \n",
    "    if str(year) not in x:\n",
    "        if year == 1985:\n",
    "            graphData = [total / 365]\n",
    "        else:\n",
    "            if year/4 == 0:\n",
    "                graphData.append(total / 366)\n",
    "            else:\n",
    "                graphData.append(total / 365)\n",
    "\n",
    "        total = 0\n",
    "        year += 1\n",
    "        \n",
    "    pol = df['Nitrogen Dioxide AQI Value'][i]\n",
    "    total += pol\n",
    "\n",
    "graphData.append(total/365)\n",
    "\n",
    "graphYears = [1985,1986,1987,1988,1989,1990,1991,1992,1993,1994,1995,1996,1997,1998,1999,2000,2001,2002,2003,2004,2005,2006,2007,2008,2009,2010]\n",
    "trace = go.Scatter(x = graphYears, y = graphData,\n",
    "                  name='NO2 AQI Value in NY')\n",
    "layout = go.Layout(title='NO2 AQI Value in NY (From 1985 to 2010)',\n",
    "                   plot_bgcolor='rgb(230, 230,230)', \n",
    "                   showlegend=True)\n",
    "fig = go.Figure(data=[trace], layout=layout)\n",
    "\n",
    "py.iplot(fig, filename='NYNO2')"
   ]
  },
  {
   "cell_type": "markdown",
   "metadata": {
    "collapsed": true
   },
   "source": [
    "<h2>Nitrogen Dioxide Analysis</h2>\n",
    "From analysis of the data, the level of Nitrogen Dioxide has been pretty consistent over the 25 year period in the three cities. The No2 levels has stayed at a reasonable level in terms of the AQI but with some years peaking above the unhealthy mark.\n",
    "\n",
    "Nitrogen Dioxide does not seem to be at a harmful level to affect the general public.\n"
   ]
  },
  {
   "cell_type": "code",
   "execution_count": 13,
   "metadata": {},
   "outputs": [
    {
     "data": {
      "text/html": [
       "<iframe id=\"igraph\" scrolling=\"no\" style=\"border:none;\" seamless=\"seamless\" src=\"https://plot.ly/~Rayo117/8.embed\" height=\"525px\" width=\"100%\"></iframe>"
      ],
      "text/plain": [
       "<plotly.tools.PlotlyDisplay object>"
      ]
     },
     "execution_count": 13,
     "metadata": {},
     "output_type": "execute_result"
    }
   ],
   "source": [
    "ChicagoSO2Path = 'https://raw.githubusercontent.com/DeclanCarter/DataScience/master/ChicagoSo2.csv'\n",
    "df = pd.read_csv(ChicagoSO2Path)\n",
    "\n",
    "year = 1985\n",
    "total = 0\n",
    "for i, x in enumerate(df['Date']): \n",
    "    if str(year) not in x:\n",
    "        if year == 1985:\n",
    "            graphData = [total / 365]\n",
    "        else:\n",
    "            if year/4 == 0:\n",
    "                graphData.append(total / 366)\n",
    "            else:\n",
    "                graphData.append(total / 365)\n",
    "\n",
    "        total = 0\n",
    "        year += 1\n",
    "        \n",
    "    pol = df['Sulfur Dioxide AQI Value'][i]\n",
    "    total += pol\n",
    "\n",
    "graphData.append(total/365)\n",
    "\n",
    "graphYears = [1985,1986,1987,1988,1989,1990,1991,1992,1993,1994,1995,1996,1997,1998,1999,2000,2001,2002,2003,2004,2005,2006,2007,2008,2009,2010]\n",
    "trace = go.Scatter(x = graphYears, y = graphData,\n",
    "                  name='Sulfur Dioxide AQI Value in Chicago')\n",
    "layout = go.Layout(title='Sulfur Dioxide AQI Value in Chicago (From 1985 to 2010)',\n",
    "                   plot_bgcolor='rgb(230, 230,230)', \n",
    "                   showlegend=True)\n",
    "fig = go.Figure(data=[trace], layout=layout)\n",
    "\n",
    "py.iplot(fig, filename='ChicagoSO2')"
   ]
  },
  {
   "cell_type": "code",
   "execution_count": 14,
   "metadata": {},
   "outputs": [
    {
     "data": {
      "text/html": [
       "<iframe id=\"igraph\" scrolling=\"no\" style=\"border:none;\" seamless=\"seamless\" src=\"https://plot.ly/~Rayo117/10.embed\" height=\"525px\" width=\"100%\"></iframe>"
      ],
      "text/plain": [
       "<plotly.tools.PlotlyDisplay object>"
      ]
     },
     "execution_count": 14,
     "metadata": {},
     "output_type": "execute_result"
    }
   ],
   "source": [
    "LASO2Path = 'https://raw.githubusercontent.com/DeclanCarter/DataScience/master/LASo2.csv'\n",
    "df = pd.read_csv(LASO2Path)\n",
    "\n",
    "year = 1985\n",
    "total = 0\n",
    "for i, x in enumerate(df['Date']): \n",
    "    if str(year) not in x:\n",
    "        if year == 1985:\n",
    "            graphData = [total / 365]\n",
    "        else:\n",
    "            if year/4 == 0:\n",
    "                graphData.append(total / 366)\n",
    "            else:\n",
    "                graphData.append(total / 365)\n",
    "\n",
    "        total = 0\n",
    "        year += 1\n",
    "        \n",
    "    pol = df['Sulfur Dioxide AQI Value'][i]\n",
    "    total += pol\n",
    "\n",
    "graphData.append(total/365)\n",
    "\n",
    "graphYears = [1985,1986,1987,1988,1989,1990,1991,1992,1993,1994,1995,1996,1997,1998,1999,2000,2001,2002,2003,2004,2005,2006,2007,2008,2009,2010]\n",
    "trace = go.Scatter(x = graphYears, y = graphData,\n",
    "                  name='Sulfur Dioxide AQI Value in LA')\n",
    "layout = go.Layout(title='Sulfur Dioxide AQI Value in LA (From 1985 to 2010)',\n",
    "                   plot_bgcolor='rgb(230, 230,230)', \n",
    "                   showlegend=True)\n",
    "fig = go.Figure(data=[trace], layout=layout)\n",
    "\n",
    "py.iplot(fig, filename='LASO2')"
   ]
  },
  {
   "cell_type": "code",
   "execution_count": 15,
   "metadata": {},
   "outputs": [
    {
     "data": {
      "text/html": [
       "<iframe id=\"igraph\" scrolling=\"no\" style=\"border:none;\" seamless=\"seamless\" src=\"https://plot.ly/~Rayo117/12.embed\" height=\"525px\" width=\"100%\"></iframe>"
      ],
      "text/plain": [
       "<plotly.tools.PlotlyDisplay object>"
      ]
     },
     "execution_count": 15,
     "metadata": {},
     "output_type": "execute_result"
    }
   ],
   "source": [
    "NYSO2Path = 'https://raw.githubusercontent.com/DeclanCarter/DataScience/master/2NYSo2.csv'\n",
    "df = pd.read_csv(NYSO2Path)\n",
    "\n",
    "year = 1985\n",
    "total = 0\n",
    "for i, x in enumerate(df['Date']): \n",
    "    if str(year) not in x:\n",
    "        if year == 1985:\n",
    "            graphData = [total / 365]\n",
    "        else:\n",
    "            if year/4 == 0:\n",
    "                graphData.append(total / 366)\n",
    "            else:\n",
    "                graphData.append(total / 365)\n",
    "\n",
    "        total = 0\n",
    "        year += 1\n",
    "        \n",
    "    pol = df['Sulfur Dioxide AQI Value'][i]\n",
    "    total += pol\n",
    "\n",
    "graphData.append(total/365)\n",
    "\n",
    "graphYears = [1985,1986,1987,1988,1989,1990,1991,1992,1993,1994,1995,1996,1997,1998,1999,2000,2001,2002,2003,2004,2005,2006,2007,2008,2009,2010]\n",
    "trace = go.Scatter(x = graphYears, y = graphData,\n",
    "                  name='Sulfur Dioxide AQI Value in NY')\n",
    "layout = go.Layout(title='Sulfur Dioxide AQI Value in NY (From 1985 to 2010)',\n",
    "                   plot_bgcolor='rgb(230, 230,230)', \n",
    "                   showlegend=True)\n",
    "fig = go.Figure(data=[trace], layout=layout)\n",
    "\n",
    "py.iplot(fig, filename='NYSO2')"
   ]
  },
  {
   "cell_type": "markdown",
   "metadata": {
    "collapsed": true
   },
   "source": [
    "<h2>Sulfur Dioxide Analysis</h2>\n",
    "Analysing the Sulfur Dioxide data, New York and Chicago had alarming levels of So2, levels have been decreasing in recent years but Chicago still has unhealthy levels of So2 present. This is most likely due to the more industrial the city of Chicago is. Sources like the Crawford power station located in Chicago is primarily the main source of sulfur dioxide being produced.\n",
    "\n",
    "Los Angeles has mostly manageable So2 levels with a few outliers reaching unhealthy levels. A reason for this in LA might be the structure of the cities, New York and Chicago have very clustered buildings and the infrastructure is tightly packed than LA."
   ]
  },
  {
   "cell_type": "code",
   "execution_count": 16,
   "metadata": {},
   "outputs": [
    {
     "data": {
      "text/html": [
       "<iframe id=\"igraph\" scrolling=\"no\" style=\"border:none;\" seamless=\"seamless\" src=\"https://plot.ly/~Rayo117/16.embed\" height=\"525px\" width=\"100%\"></iframe>"
      ],
      "text/plain": [
       "<plotly.tools.PlotlyDisplay object>"
      ]
     },
     "execution_count": 16,
     "metadata": {},
     "output_type": "execute_result"
    }
   ],
   "source": [
    "ChicagoOzonePath = 'https://raw.githubusercontent.com/DeclanCarter/DataScience/master/ChicagoOzone.csv'\n",
    "df = pd.read_csv(ChicagoOzonePath)\n",
    "\n",
    "year = 1985\n",
    "total = 0\n",
    "for i, x in enumerate(df['Date']): \n",
    "    if str(year) not in x:\n",
    "        if year == 1985:\n",
    "            graphData = [total / 365]\n",
    "        else:\n",
    "            if year/4 == 0:\n",
    "                graphData.append(total / 366)\n",
    "            else:\n",
    "                graphData.append(total / 365)\n",
    "\n",
    "        total = 0\n",
    "        year += 1\n",
    "        \n",
    "    pol = df['Ozone AQI Value'][i]\n",
    "    total += pol\n",
    "\n",
    "graphData.append(total/365)\n",
    "\n",
    "graphYears = [1985,1986,1987,1988,1989,1990,1991,1992,1993,1994,1995,1996,1997,1998,1999,2000,2001,2002,2003,2004,2005,2006,2007,2008,2009,2010]\n",
    "trace = go.Scatter(x = graphYears, y = graphData,\n",
    "                  name='Ozone AQI Value in Chicago')\n",
    "layout = go.Layout(title='Ozone AQI Value in Chicago (From 1985 to 2010)',\n",
    "                   plot_bgcolor='rgb(230, 230,230)', \n",
    "                   showlegend=True)\n",
    "fig = go.Figure(data=[trace], layout=layout)\n",
    "\n",
    "py.iplot(fig, filename='ChicagoOzone')"
   ]
  },
  {
   "cell_type": "code",
   "execution_count": 17,
   "metadata": {},
   "outputs": [
    {
     "data": {
      "text/html": [
       "<iframe id=\"igraph\" scrolling=\"no\" style=\"border:none;\" seamless=\"seamless\" src=\"https://plot.ly/~Rayo117/24.embed\" height=\"525px\" width=\"100%\"></iframe>"
      ],
      "text/plain": [
       "<plotly.tools.PlotlyDisplay object>"
      ]
     },
     "execution_count": 17,
     "metadata": {},
     "output_type": "execute_result"
    }
   ],
   "source": [
    "LAOzonePath = 'https://raw.githubusercontent.com/DeclanCarter/DataScience/master/LAOzone.csv'\n",
    "df = pd.read_csv(LAOzonePath)\n",
    "\n",
    "year = 1985\n",
    "total = 0\n",
    "for i, x in enumerate(df['Date']): \n",
    "    if str(year) not in x:\n",
    "        if year == 1985:\n",
    "            graphData = [total / 365]\n",
    "        else:\n",
    "            if year/4 == 0:\n",
    "                graphData.append(total / 366)\n",
    "            else:\n",
    "                graphData.append(total / 365)\n",
    "\n",
    "        total = 0\n",
    "        year += 1\n",
    "        \n",
    "    pol = df['Ozone AQI Value'][i]\n",
    "    total += pol\n",
    "\n",
    "graphData.append(total/365)\n",
    "\n",
    "graphYears = [1985,1986,1987,1988,1989,1990,1991,1992,1993,1994,1995,1996,1997,1998,1999,2000,2001,2002,2003,2004,2005,2006,2007,2008,2009,2010]\n",
    "trace = go.Scatter(x = graphYears, y = graphData,\n",
    "                  name='Ozone AQI Value in LA')\n",
    "layout = go.Layout(title='Ozone AQI Value in LA (From 1985 to 2010)',\n",
    "                   plot_bgcolor='rgb(230, 230,230)', \n",
    "                   showlegend=True)\n",
    "fig = go.Figure(data=[trace], layout=layout)\n",
    "\n",
    "py.iplot(fig, filename='LAOzone')"
   ]
  },
  {
   "cell_type": "code",
   "execution_count": 19,
   "metadata": {},
   "outputs": [
    {
     "name": "stdout",
     "output_type": "stream",
     "text": [
      "High five! You successfully sent some data to your account on plotly. View your plot in your browser at https://plot.ly/~Deckie/0 or inside your plot.ly account where it is named 'NYOzone'\n"
     ]
    },
    {
     "data": {
      "text/html": [
       "<iframe id=\"igraph\" scrolling=\"no\" style=\"border:none;\" seamless=\"seamless\" src=\"https://plot.ly/~Deckie/0.embed\" height=\"525px\" width=\"100%\"></iframe>"
      ],
      "text/plain": [
       "<plotly.tools.PlotlyDisplay object>"
      ]
     },
     "execution_count": 19,
     "metadata": {},
     "output_type": "execute_result"
    }
   ],
   "source": [
    "NYOzonePath = 'https://raw.githubusercontent.com/DeclanCarter/DataScience/master/NYOzone.csv'\n",
    "df = pd.read_csv(NYOzonePath)\n",
    "\n",
    "year = 1985\n",
    "total = 0\n",
    "for i, x in enumerate(df['Date']): \n",
    "    if str(year) not in x:\n",
    "        if year == 1985:\n",
    "            graphData = [total / 365]\n",
    "        else:\n",
    "            if year/4 == 0:\n",
    "                graphData.append(total / 366)\n",
    "            else:\n",
    "                graphData.append(total / 365)\n",
    "\n",
    "        total = 0\n",
    "        year += 1\n",
    "        \n",
    "    pol = df['Ozone AQI Value'][i]\n",
    "    total += pol\n",
    "\n",
    "graphData.append(total/365)\n",
    "\n",
    "graphYears = [1985,1986,1987,1988,1989,1990,1991,1992,1993,1994,1995,1996,1997,1998,1999,2000,2001,2002,2003,2004,2005,2006,2007,2008,2009,2010]\n",
    "trace = go.Scatter(x = graphYears, y = graphData,\n",
    "                  name='Ozone AQI Value in NY')\n",
    "layout = go.Layout(title='Ozone AQI Value in NY (From 1985 to 2010)',\n",
    "                   plot_bgcolor='rgb(230, 230,230)', \n",
    "                   showlegend=True)\n",
    "fig = go.Figure(data=[trace], layout=layout)\n",
    "\n",
    "py.iplot(fig, filename='NYOzone')"
   ]
  },
  {
   "cell_type": "markdown",
   "metadata": {
    "collapsed": true
   },
   "source": [
    "<h2>Ozone</h2>\n",
    "Analysing the ozone data there is a clearly a strange trend going on between all three cities. The data seems to rapidly peak and drastically drop off. From doing research, Ozone seems to spike during the early summer months and between the hours of 8am and 4pm ozone rises. On hot days ozone is known to reach unhealthy levels in urban enviroments, but still reach high levels during colder months. \n",
    "\n"
   ]
  },
  {
   "cell_type": "code",
   "execution_count": 21,
   "metadata": {},
   "outputs": [
    {
     "data": {
      "text/html": [
       "<iframe id=\"igraph\" scrolling=\"no\" style=\"border:none;\" seamless=\"seamless\" src=\"https://plot.ly/~Deckie/2.embed\" height=\"525px\" width=\"100%\"></iframe>"
      ],
      "text/plain": [
       "<plotly.tools.PlotlyDisplay object>"
      ]
     },
     "execution_count": 21,
     "metadata": {},
     "output_type": "execute_result"
    }
   ],
   "source": [
    "ChicagoPM10Path = 'https://raw.githubusercontent.com/DeclanCarter/DataScience/master/ChicagoPM10.csv'\n",
    "df = pd.read_csv(ChicagoPM10Path)\n",
    "\n",
    "year = 1988\n",
    "total = 0\n",
    "for i, x in enumerate(df['Date']): \n",
    "    if str(year) not in x:\n",
    "        if year == 1988:\n",
    "            graphData = [total / 365]\n",
    "        else:\n",
    "            if year/4 == 0:\n",
    "                graphData.append(total / 366)\n",
    "            else:\n",
    "                graphData.append(total / 365)\n",
    "\n",
    "        total = 0\n",
    "        year += 1\n",
    "        \n",
    "    pol = df['PM10 AQI Value'][i]\n",
    "    total += pol\n",
    "\n",
    "graphData.append(total/365)\n",
    "\n",
    "graphYears = [1988,1989,1990,1991,1992,1993,1994,1995,1996,1997,1998,1999,2000,2001,2002,2003,2004,2005,2006,2007,2008,2009,2010]\n",
    "trace = go.Scatter(x = graphYears, y = graphData,\n",
    "                  name='PM10 AQI Value in Chicago')\n",
    "layout = go.Layout(title='PM10 AQI Value in Chicago (From 1988 to 2010)',\n",
    "                   plot_bgcolor='rgb(230, 230,230)', \n",
    "                   showlegend=True)\n",
    "fig = go.Figure(data=[trace], layout=layout)\n",
    "\n",
    "py.iplot(fig, filename='ChicagoPM10')"
   ]
  },
  {
   "cell_type": "code",
   "execution_count": 22,
   "metadata": {},
   "outputs": [
    {
     "data": {
      "text/html": [
       "<iframe id=\"igraph\" scrolling=\"no\" style=\"border:none;\" seamless=\"seamless\" src=\"https://plot.ly/~Deckie/4.embed\" height=\"525px\" width=\"100%\"></iframe>"
      ],
      "text/plain": [
       "<plotly.tools.PlotlyDisplay object>"
      ]
     },
     "execution_count": 22,
     "metadata": {},
     "output_type": "execute_result"
    }
   ],
   "source": [
    "LAPM10Path = 'https://raw.githubusercontent.com/DeclanCarter/DataScience/master/LAPM10.csv'\n",
    "df = pd.read_csv(LAPM10Path)\n",
    "\n",
    "year = 1988\n",
    "total = 0\n",
    "for i, x in enumerate(df['Date']): \n",
    "    if str(year) not in x:\n",
    "        if year == 1988:\n",
    "            graphData = [total / 365]\n",
    "        else:\n",
    "            if year/4 == 0:\n",
    "                graphData.append(total / 366)\n",
    "            else:\n",
    "                graphData.append(total / 365)\n",
    "\n",
    "        total = 0\n",
    "        year += 1\n",
    "        \n",
    "    pol = df['PM10 AQI Value'][i]\n",
    "    total += pol\n",
    "\n",
    "graphData.append(total/365)\n",
    "\n",
    "graphYears = [1988,1989,1990,1991,1992,1993,1994,1995,1996,1997,1998,1999,2000,2001,2002,2003,2004,2005,2006,2007,2008,2009,2010]\n",
    "trace = go.Scatter(x = graphYears, y = graphData,\n",
    "                  name='PM10 AQI Value in LA')\n",
    "layout = go.Layout(title='PM10 AQI Value in LA (From 1988 to 2010)',\n",
    "                   plot_bgcolor='rgb(230, 230,230)', \n",
    "                   showlegend=True)\n",
    "fig = go.Figure(data=[trace], layout=layout)\n",
    "\n",
    "py.iplot(fig, filename='LAPM10')"
   ]
  },
  {
   "cell_type": "code",
   "execution_count": 23,
   "metadata": {},
   "outputs": [
    {
     "data": {
      "text/html": [
       "<iframe id=\"igraph\" scrolling=\"no\" style=\"border:none;\" seamless=\"seamless\" src=\"https://plot.ly/~Deckie/6.embed\" height=\"525px\" width=\"100%\"></iframe>"
      ],
      "text/plain": [
       "<plotly.tools.PlotlyDisplay object>"
      ]
     },
     "execution_count": 23,
     "metadata": {},
     "output_type": "execute_result"
    }
   ],
   "source": [
    "NYPM10Path = 'https://raw.githubusercontent.com/DeclanCarter/DataScience/master/NYPM10.csv'\n",
    "df = pd.read_csv(NYPM10Path)\n",
    "\n",
    "year = 1988\n",
    "total = 0\n",
    "for i, x in enumerate(df['Date']): \n",
    "    if str(year) not in x:\n",
    "        if year == 1988:\n",
    "            graphData = [total / 365]\n",
    "        else:\n",
    "            if year/4 == 0:\n",
    "                graphData.append(total / 366)\n",
    "            else:\n",
    "                graphData.append(total / 365)\n",
    "\n",
    "        total = 0\n",
    "        year += 1\n",
    "        \n",
    "    pol = df['PM10 AQI Value'][i]\n",
    "    total += pol\n",
    "\n",
    "graphData.append(total/365)\n",
    "\n",
    "graphYears = [1988,1989,1990,1991,1992,1993,1994,1995,1996,1997,1998,1999,2000,2001,2002,2003,2004,2005,2006,2007,2008,2009,2010]\n",
    "trace = go.Scatter(x = graphYears, y = graphData,\n",
    "                  name='PM10 AQI Value in NY')\n",
    "layout = go.Layout(title='PM10 AQI Value in NY (From 1988 to 2010)',\n",
    "                   plot_bgcolor='rgb(230, 230,230)', \n",
    "                   showlegend=True)\n",
    "fig = go.Figure(data=[trace], layout=layout)\n",
    "\n",
    "py.iplot(fig, filename='NYPM10')"
   ]
  },
  {
   "cell_type": "code",
   "execution_count": 24,
   "metadata": {},
   "outputs": [
    {
     "data": {
      "text/html": [
       "<iframe id=\"igraph\" scrolling=\"no\" style=\"border:none;\" seamless=\"seamless\" src=\"https://plot.ly/~Deckie/8.embed\" height=\"525px\" width=\"100%\"></iframe>"
      ],
      "text/plain": [
       "<plotly.tools.PlotlyDisplay object>"
      ]
     },
     "execution_count": 24,
     "metadata": {},
     "output_type": "execute_result"
    }
   ],
   "source": [
    "ChicagoPM25Path = 'https://raw.githubusercontent.com/DeclanCarter/DataScience/master/ChicagoPM25.csv'\n",
    "df = pd.read_csv(ChicagoPM25Path)\n",
    "\n",
    "year = 1999\n",
    "total = 0\n",
    "for i, x in enumerate(df['Date']): \n",
    "    if str(year) not in x:\n",
    "        if year == 1999:\n",
    "            graphData = [total / 365]\n",
    "        else:\n",
    "            if year/4 == 0:\n",
    "                graphData.append(total / 366)\n",
    "            else:\n",
    "                graphData.append(total / 365)\n",
    "\n",
    "        total = 0\n",
    "        year += 1\n",
    "        \n",
    "    pol = df['PM2.5 AQI Value'][i]\n",
    "    total += pol\n",
    "\n",
    "graphData.append(total/365)\n",
    "\n",
    "graphYears = [1999,2000,2001,2002,2003,2004,2005,2006,2007,2008,2009,2010]\n",
    "trace = go.Scatter(x = graphYears, y = graphData,\n",
    "                  name='PM25 AQI Value in Chicago')\n",
    "layout = go.Layout(title='PM25 AQI Value in Chicago (From 1999 to 2010)',\n",
    "                   plot_bgcolor='rgb(230, 230,230)', \n",
    "                   showlegend=True)\n",
    "fig = go.Figure(data=[trace], layout=layout)\n",
    "\n",
    "py.iplot(fig, filename='ChicagoPM25')"
   ]
  },
  {
   "cell_type": "code",
   "execution_count": 26,
   "metadata": {},
   "outputs": [
    {
     "data": {
      "text/html": [
       "<iframe id=\"igraph\" scrolling=\"no\" style=\"border:none;\" seamless=\"seamless\" src=\"https://plot.ly/~Deckie/10.embed\" height=\"525px\" width=\"100%\"></iframe>"
      ],
      "text/plain": [
       "<plotly.tools.PlotlyDisplay object>"
      ]
     },
     "execution_count": 26,
     "metadata": {},
     "output_type": "execute_result"
    }
   ],
   "source": [
    "LAPM25Path = 'https://raw.githubusercontent.com/DeclanCarter/DataScience/master/LAPM25.csv'\n",
    "df = pd.read_csv(LAPM25Path)\n",
    "\n",
    "year = 1999\n",
    "total = 0\n",
    "for i, x in enumerate(df['Date']): \n",
    "    if str(year) not in x:\n",
    "        if year == 1999:\n",
    "            graphData = [total / 365]\n",
    "        else:\n",
    "            if year/4 == 0:\n",
    "                graphData.append(total / 366)\n",
    "            else:\n",
    "                graphData.append(total / 365)\n",
    "\n",
    "        total = 0\n",
    "        year += 1\n",
    "        \n",
    "    pol = df['PM2.5 AQI Value'][i]\n",
    "    total += pol\n",
    "\n",
    "graphData.append(total/365)\n",
    "\n",
    "graphYears = [1999,2000,2001,2002,2003,2004,2005,2006,2007,2008,2009,2010]\n",
    "trace = go.Scatter(x = graphYears, y = graphData,\n",
    "                  name='PM25 AQI Value in LA')\n",
    "layout = go.Layout(title='PM25 AQI Value in LA (From 1999 to 2010)',\n",
    "                   plot_bgcolor='rgb(230, 230,230)', \n",
    "                   showlegend=True)\n",
    "fig = go.Figure(data=[trace], layout=layout)\n",
    "\n",
    "py.iplot(fig, filename='LAPM25')"
   ]
  },
  {
   "cell_type": "code",
   "execution_count": 28,
   "metadata": {},
   "outputs": [
    {
     "data": {
      "text/html": [
       "<iframe id=\"igraph\" scrolling=\"no\" style=\"border:none;\" seamless=\"seamless\" src=\"https://plot.ly/~Deckie/12.embed\" height=\"525px\" width=\"100%\"></iframe>"
      ],
      "text/plain": [
       "<plotly.tools.PlotlyDisplay object>"
      ]
     },
     "execution_count": 28,
     "metadata": {},
     "output_type": "execute_result"
    }
   ],
   "source": [
    "NYPM25Path = 'https://raw.githubusercontent.com/DeclanCarter/DataScience/master/NYPM25.csv'\n",
    "df = pd.read_csv(NYPM25Path)\n",
    "\n",
    "year = 1999\n",
    "total = 0\n",
    "for i, x in enumerate(df['Date']): \n",
    "    if str(year) not in x:\n",
    "        if year == 1999:\n",
    "            graphData = [total / 365]\n",
    "        else:\n",
    "            if year/4 == 0:\n",
    "                graphData.append(total / 366)\n",
    "            else:\n",
    "                graphData.append(total / 365)\n",
    "\n",
    "        total = 0\n",
    "        year += 1\n",
    "        \n",
    "    pol = df['PM2.5 AQI Value'][i]\n",
    "    total += pol\n",
    "\n",
    "graphData.append(total/365)\n",
    "\n",
    "graphYears = [1999,2000,2001,2002,2003,2004,2005,2006,2007,2008,2009,2010]\n",
    "trace = go.Scatter(x = graphYears, y = graphData,\n",
    "                  name='PM25 AQI Value in NY')\n",
    "layout = go.Layout(title='PM25 AQI Value in NY (From 1999 to 2010)',\n",
    "                   plot_bgcolor='rgb(230, 230,230)', \n",
    "                   showlegend=True)\n",
    "fig = go.Figure(data=[trace], layout=layout)\n",
    "\n",
    "py.iplot(fig, filename='NYPM25')"
   ]
  },
  {
   "cell_type": "markdown",
   "metadata": {
    "collapsed": true
   },
   "source": [
    "<h2>Partical Matter 10M Analysis</h2>\n",
    "Reviewing the Partical Matter 10 mircometer data it seems that all three city has steady healthy levels. But in each dataset there is an outliers with an instance of PM level of over 700. This must be a mistake as a PM10 level over 500 is extremely harmful for people and research into the matter there hasn't been case where the PM has reached those levels. LA and New York there is an instance of PM10 reaching over 600 and 700 which would be near impossible\n",
    "\n",
    "<h2>Partical Matter 2.5m Analysis</h2>\n",
    "The PM 2.5M data is much more interesting, between each city the levels have changed drastically by year. The levels of PM 2.5m range from moderate to unhealthy. "
   ]
  },
  {
   "cell_type": "markdown",
   "metadata": {
    "collapsed": true
   },
   "source": [
    "<h2>Conclusion</h2>\n",
    "\n",
    "From the graphs shown we can extrapolate a great deal of information. What we learned that Partical Matter 10m and Nitrogen Dioxide according to the standards set out by the EPA should not pose any serious threats or cause any side effects at the current and past levels of these pollutants.\n",
    "\n",
    "Carbon monoxide is a big factor that we wanted to investigate, out of all the pollutants, CO is the largest amount produced on a daily basis and could be the biggest contributor to behavioural changes to people who are exposed to carbon monoxiode. From the graphs for the three cities carbon monoxiode has been decreasing at steady rate, when the criminal activity is analysised we will be expecting a strong correlation between the two.\n",
    "\n",
    "Sulfur Dioxide, Ozone and PM 2.5m are concerning data, as these pollutants have been consistently rising above a healthy level across all three cities over the 25 year period. People being exposed to unhealthy levels of these pollutants could have a severe impact on peoples behaviour and health. \n"
   ]
  },
  {
   "cell_type": "markdown",
   "metadata": {},
   "source": [
    "<h2>Expected Outcomes</h2>\n",
    "\n",
    "Partical Matter 10m and nitrogen dioxide will have little correllation with criminal activity.\n",
    "\n",
    "Carbon Monoxide will have the strongest correlation with criminal activity.\n",
    "\n",
    "Sulfur Dioxide, Ozone and PM 2.5m will be difficult to draw conclusion as criminal activity not been consistant so it will be interestng to see what we will find."
   ]
  },
  {
   "cell_type": "code",
   "execution_count": null,
   "metadata": {},
   "outputs": [],
   "source": []
  }
 ],
 "metadata": {
  "kernelspec": {
   "display_name": "Python 3",
   "language": "python",
   "name": "python3"
  },
  "language_info": {
   "codemirror_mode": {
    "name": "ipython",
    "version": 3
   },
   "file_extension": ".py",
   "mimetype": "text/x-python",
   "name": "python",
   "nbconvert_exporter": "python",
   "pygments_lexer": "ipython3",
   "version": "3.6.7"
  }
 },
 "nbformat": 4,
 "nbformat_minor": 2
}
