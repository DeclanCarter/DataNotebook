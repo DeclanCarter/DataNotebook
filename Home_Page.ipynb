{
 "cells": [
  {
   "cell_type": "markdown",
   "metadata": {},
   "source": [
    "<center><h1><font color=\"orange\">Does Air Quality Influence Criminal Activity?</font></h1></center>\n",
    "\n"
   ]
  },
  {
   "cell_type": "markdown",
   "metadata": {},
   "source": [
    "<center><h2><font color=\"orange\">Abstract</font></h2></center>\n",
    "<br>\n",
    "<center><font size='3.5'>\n",
    "This jupyter notebook will describe the research done regarding air pollution and its influence on crime. The conclusions we draw from our research goals will influence our ability to critique Gary Haq's article 'Air Pollution Increases Crime in Cities - Here's How'. For Goal 1, we look at different types of air pollutants and how it effects us. For Goal 2, we analyse rates of different crimes, and for Goal 3, we compare the flattened scaled linear regression models of each pollutant/crime combination between cities to see if they yield similar trends. We have looked at 3 US cities, Chicago, Los Angeles and New York.\n",
    "</font></center>"
   ]
  },
  {
   "cell_type": "markdown",
   "metadata": {},
   "source": [
    "<center><h2><font color=\"orange\">Table of Contents</font></h2></center>"
   ]
  },
  {
   "cell_type": "markdown",
   "metadata": {
    "collapsed": true
   },
   "source": [
    "<center><h2><a href=\"https://nbviewer.jupyter.org/github/DeclanCarter/DataNotebook/blob/master/Goal_1.ipynb\">Goal 1 - Air Quality</a></h2></center>\n",
    "\n",
    "<center><h2><a href=\"https://nbviewer.jupyter.org/github/DeclanCarter/DataNotebook/blob/master/Goal_2.ipynb\">Goal 2 - Crime Rates</a></h2></center>\n",
    "\n",
    "<center><h2><a href=\"https://nbviewer.jupyter.org/github/DeclanCarter/DataNotebook/blob/master/Goal_3.ipynb\">Goal 3 - Comparison & Machine Learning</a></h2></center>\n"
   ]
  },
  {
   "cell_type": "markdown",
   "metadata": {
    "collapsed": true
   },
   "source": [
    "<h2>Disclaimer</h2>"
   ]
  },
  {
   "cell_type": "markdown",
   "metadata": {},
   "source": [
    "This research does not claim to be 100% conclusive and should be treated as such. The data used was sourced from trusted third party sites with a three star quality.  "
   ]
  }
 ],
 "metadata": {
  "kernelspec": {
   "display_name": "Python 3",
   "language": "python",
   "name": "python3"
  },
  "language_info": {
   "codemirror_mode": {
    "name": "ipython",
    "version": 3
   },
   "file_extension": ".py",
   "mimetype": "text/x-python",
   "name": "python",
   "nbconvert_exporter": "python",
   "pygments_lexer": "ipython3",
   "version": "3.7.1"
  }
 },
 "nbformat": 4,
 "nbformat_minor": 2
}
